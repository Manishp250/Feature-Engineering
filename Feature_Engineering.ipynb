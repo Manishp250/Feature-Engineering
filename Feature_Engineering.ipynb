{
  "nbformat": 4,
  "nbformat_minor": 0,
  "metadata": {
    "colab": {
      "provenance": []
    },
    "kernelspec": {
      "name": "python3",
      "display_name": "Python 3"
    },
    "language_info": {
      "name": "python"
    }
  },
  "cells": [
    {
      "cell_type": "markdown",
      "source": [
        "# Assignment Questions"
      ],
      "metadata": {
        "id": "WmPQvAneCNOn"
      }
    },
    {
      "cell_type": "markdown",
      "source": [
        "1. What is a parameter?\n",
        "\n",
        "ans- A parameter is a variable used to define or pass information to a function, method, or system. It acts like a placeholder for a value that you provide when you call the function or use the system. Parameters help make functions flexible and reusable."
      ],
      "metadata": {
        "id": "Lbu8SMV5CLSQ"
      }
    },
    {
      "cell_type": "markdown",
      "source": [
        "2.  What is correlation?\n",
        "\n",
        " ans- Correlation is a statistical measure that describes the relationship between two variables—specifically, how one variable tends to change when the other changes.\n",
        "\n",
        "   It tells us how strong and in what direction the variables are related.\n",
        "\n",
        "  The correlation is usually measured by the correlation coefficient, often symbolized as r, which ranges from -1 to +1.  \n",
        "\n",
        "* What does negative correlation mean?\n",
        "\n",
        " ans- Negative correlation means that as one variable increases, the other decreases, and vice versa.\n",
        "\n",
        "  In other words, the two variables move in opposite directions.\n",
        "\n",
        "  Example:\n",
        "\n",
        "  The more hours you spend watching TV, the fewer hours you may spend studying.\n",
        "\n",
        "  As temperature drops, heating costs often go up."
      ],
      "metadata": {
        "id": "B30MdlLbDUOH"
      }
    },
    {
      "cell_type": "markdown",
      "source": [
        "3. Define Machine Learning. What are the main components in Machine Learning?\n",
        "\n",
        " ans- Machine Learning is a field of computer science and artificial intelligence (AI) that focuses on building systems that can learn from data, identify patterns, and make decisions with minimal human intervention.\n",
        "\n",
        " Instead of being explicitly programmed to perform a task, a machine learning model learns from examples (data) to perform tasks such as prediction, classification, or pattern recognition.\n",
        "\n",
        " Main Components of Machine Learning\n",
        "\n",
        "\n",
        "1. Data\n",
        "The raw information the model learns from.\n",
        "\n",
        "Quality and quantity of data greatly influence model performance.\n",
        "\n",
        "Types: Structured (tables, databases) or unstructured (text, images, audio).\n",
        "\n",
        "2. Features\n",
        "Individual measurable properties or characteristics of the data.\n",
        "\n",
        "Example: In predicting house prices, features could include number of rooms, size, and location.\n",
        "\n",
        "3. Model\n",
        "The mathematical structure that makes predictions or decisions.\n",
        "\n",
        "It learns relationships between input features and outputs.\n",
        "\n",
        "Examples: Decision tree, neural network, linear regression.\n",
        "\n",
        "4. Algorithm\n",
        "The method used to train the model by adjusting its internal parameters.\n",
        "\n",
        "It tells the model how to learn from the data.\n",
        "\n",
        "Examples: Gradient descent, k-nearest neighbors, support vector machines.\n",
        "\n",
        "5. Training\n",
        "The process of using data and an algorithm to teach the model.\n",
        "\n",
        "The model learns by minimizing error between predicted and actual values.\n",
        "\n",
        "6. Evaluation\n",
        "Measures the model's performance on unseen (test) data.\n",
        "\n",
        "Helps determine how well the model will perform in real-world scenarios.\n",
        "\n",
        "Metrics: Accuracy, precision, recall, F1 score, mean squared error.\n",
        "\n",
        "7. Prediction / Inference\n",
        "The trained model is used to make predictions on new data.\n",
        "\n",
        "8. Feedback / Optimization\n",
        "Continual improvement of the model using new data or better techniques.\n",
        "\n",
        "May involve retraining, tuning hyperparameters, or selecting new features."
      ],
      "metadata": {
        "id": "lpfDD_0zEjtw"
      }
    },
    {
      "cell_type": "markdown",
      "source": [
        "4.  How does loss value help in determining whether the model is good or not?\n",
        "\n",
        " ans- Loss value is a key metric in evaluating a machine learning model's performance. It quantifies the difference between the model’s predictions and the actual target values. A lower loss value generally indicates that the model is making better predictions, while a higher loss suggests errors in learning.\n",
        "\n",
        "There are different types of loss functions depending on the problem at hand:\n",
        "\n",
        "Mean Squared Error (MSE): Common in regression tasks, it penalizes large errors more heavily.\n",
        "\n",
        "Cross-Entropy Loss: Used in classification problems to measure the divergence between predicted probabilities and actual labels.\n",
        "\n",
        "Hinge Loss: Often used in support vector machines (SVMs) for classification."
      ],
      "metadata": {
        "id": "xmNXdUmaFJfN"
      }
    },
    {
      "cell_type": "markdown",
      "source": [
        "5. What are continuous and categorical variables?\n",
        "\n",
        " ans-\n",
        " * Continuous Variables: These are numerical variables that can take an infinite number of values within a given range. They can be measured and have a meaningful order. Examples include height, weight, temperature, and age. Continuous variables can have decimal values (e.g., 22.5°C, 5.7 meters).\n",
        "\n",
        " * Categorical Variables: These represent data that can be divided into distinct groups or categories. They do not have a numerical value in the traditional sense and are often qualitative. Examples include gender (male, female), blood type (A, B, AB, O), or car brands (Toyota, Honda, Ford). Categorical variables can be further split into:\n",
        "\n",
        "        * Nominal Variables: Categories without an inherent order (e.g., hair color: black, brown, blonde).\n",
        "\n",
        "        * Ordinal Variables: Categories with a meaningful order but without a fixed numerical difference (e.g., customer satisfaction: poor, average, good, excellent)."
      ],
      "metadata": {
        "id": "4lbltArVFhAC"
      }
    },
    {
      "cell_type": "markdown",
      "source": [
        "6. How do we handle categorical variables in Machine Learning? What are the common techniques?\n",
        " ans- Handling categorical variables is crucial in machine learning since models typically work with numerical data. There are several techniques to convert categorical variables into a format that algorithms can understand:\n",
        "\n",
        "     1.Encoding Techniques\n",
        "      One-Hot Encoding: Converts categories into binary columns (e.g., for \"Red, Blue, Green,\" it creates three separate columns with 0s and 1s).\n",
        "\n",
        "      Label Encoding: Assigns each category a numerical value (e.g., \"Red\" → 0, \"Blue\" → 1, \"Green\" → 2), though this can introduce unintended ordinal relationships.\n",
        "\n",
        "     Ordinal Encoding: Used when categories have a natural order (e.g., \"Low\" → 1, \"Medium\" → 2, \"High\" → 3).\n",
        "\n",
        "     Binary Encoding: Converts categories into binary representation, reducing dimensionality compared to one-hot encoding.\n",
        "\n",
        "     Target Encoding: Replaces categories with their mean target values (useful in predictive modeling, but needs careful handling to avoid data leakage).\n",
        "\n",
        "     2.Embedding Techniques (For High Cardinality)\n",
        "     Entity Embeddings: Used in deep learning, where categorical variables are converted into dense vector representations.\n",
        "\n",
        "     Frequency Encoding: Categories are replaced with their frequency counts, useful when the distribution of categories matters.\n",
        "\n",
        "     3.Handling Missing or Rare Categories\n",
        "     Grouping Rare Categories: Merging infrequent categories into an \"Other\" category.\n",
        "\n",
        "     Imputation: Filling missing values based on mode or distribution.\n",
        "\n",
        "     Drop Unnecessary Categories: If some categories don't add significant value, they can be removed to simplify the model."
      ],
      "metadata": {
        "id": "q2daDjw_GN_2"
      }
    },
    {
      "cell_type": "markdown",
      "source": [
        "7. What do you mean by training and testing a dataset?\n",
        "\n",
        " ans-\n",
        "  \n",
        "   * Training Dataset\n",
        "     The training dataset is the portion of data used to train the model. The model learns patterns, relationships, and features from this data through various algorithms. During training, the model adjusts its parameters to minimize errors and optimize predictions.\n",
        "\n",
        "  * Testing Dataset\n",
        "     The testing dataset is kept separate from training data and is used to evaluate the model’s performance. It helps verify whether the model can make accurate predictions on unseen data. Testing ensures the model isn’t just memorizing training data but can generalize well.\n"
      ],
      "metadata": {
        "id": "ssLZfe92HvFs"
      }
    },
    {
      "cell_type": "markdown",
      "source": [
        "8. What is sklearn.preprocessing?\n",
        "\n",
        " ans- sklearn.preprocessing is a module in Scikit-learn, a popular Python library for machine learning. It provides various functions to preprocess and transform data before feeding it into a machine learning model. Proper preprocessing improves model performance and ensures that data is in the right format."
      ],
      "metadata": {
        "id": "zYMf4f90Hoxr"
      }
    },
    {
      "cell_type": "markdown",
      "source": [
        "9. What is a Test set?\n",
        "\n",
        " ans- A test set is a portion of your dataset that is kept separate from the training process and used to evaluate the final performance of a machine learning model.\n",
        "\n",
        "Key Characteristics of a Test Set:\n",
        "\n",
        "* It contains data the model has never seen during training or validation.\n",
        "\n",
        "* Used after training is complete to check how well the model performs on unseen data.\n",
        "\n",
        "* Helps estimate the model’s generalization ability — how well it will perform in the real world."
      ],
      "metadata": {
        "id": "Jpuvm68tI__0"
      }
    },
    {
      "cell_type": "markdown",
      "source": [
        "10. How do we split data for model fitting (training and testing) in Python?\n",
        "\n",
        " ans- We use train_test_split from sklearn.model_selection to split the dataset into training and testing sets.\n",
        "\n",
        " Splitting data correctly is crucial to building a machine learning model that generalizes well to new data. In Python, Scikit-learn’s train_test_split function is the go-to method for dividing datasets into training and testing sets.\n",
        "\n",
        "\n",
        " * How do you approach a Machine Learning problem?\n",
        "\n",
        "Step-by-step approach:\n",
        "\n",
        "STEP 1: Understand the Problem\n",
        "\n",
        "Define the goal: classification, regression, etc.\n",
        "\n",
        "Understand the data requirements.\n",
        "\n",
        "STEP-2: Collect and Explore the Data\n",
        "\n",
        "Load data from sources (CSV, databases, APIs).\n",
        "\n",
        "Do initial EDA (visualizations, summaries, distributions).\n",
        "\n",
        "STEP-3: Clean and Prepare the Data\n",
        "\n",
        "Handle missing values, duplicates.\n",
        "\n",
        "Encode categorical variables.\n",
        "\n",
        "Scale or normalize features if needed.\n",
        "\n",
        "Create new features (feature engineering).\n",
        "\n",
        "STEP-4: Split the Data\n",
        "\n",
        "Use train_test_split to divide into training and testing sets.\n",
        "\n",
        "STEP-5: Select a Model\n",
        "\n",
        "Choose an appropriate algorithm based on the problem.\n",
        "\n",
        "STEP-6: Train the Model\n",
        "\n",
        "Fit the model using training data.\n",
        "\n",
        "STEP-7: Evaluate the Model\n",
        "\n",
        "Use metrics like accuracy, precision, recall, RMSE, etc.\n",
        "\n",
        "Optionally use cross-validation for robust evaluation.\n",
        "\n",
        "STEP-8: Tune Hyperparameters\n",
        "\n",
        "Use Grid Search or Randomized Search to improve model performance.\n",
        "\n",
        "STEP-9: Test and Deploy\n",
        "\n",
        "Final test on test data.\n",
        "\n",
        "Deploy the model and monitor performance in production."
      ],
      "metadata": {
        "id": "xv61nZDhOEKp"
      }
    },
    {
      "cell_type": "markdown",
      "source": [
        "11. Why do we have to perform EDA before fitting a model to the data?\n",
        "\n",
        " ANS- Exploratory Data Analysis (EDA) is a crucial step before fitting a machine learning model because it helps you understand the data, detect issues, and make informed preprocessing decisions. Here’s why it’s essential:\n",
        "\n",
        "\n",
        "1. Understanding Data Distribution\n",
        "EDA helps visualize how features are distributed—whether they’re skewed, normally distributed, or have outliers. For example, plotting histograms and boxplots can reveal anomalies that might affect model performance.\n",
        "\n",
        "2. Handling Missing Values\n",
        "Real-world datasets often contain missing values, which can negatively impact learning. EDA helps determine whether to remove, fill, or impute missing values using techniques like mean, median, or KNN imputation.\n",
        "\n",
        "3. Detecting Outliers\n",
        "Outliers can distort models, especially regression-based ones. Visualization tools like boxplots and scatterplots help spot extreme values, which may need removal or transformation.\n",
        "\n",
        "4. Identifying Feature Relationships\n",
        "EDA involves correlation analysis to see which features strongly impact the target variable. High correlation between independent variables (multicollinearity) can affect model training—addressed through feature selection or dimensionality reduction.\n",
        "\n",
        "5. Choosing the Right Preprocessing Steps\n",
        "By performing EDA, you can determine whether to:\n",
        "\n",
        "Normalize or standardize numerical features (important for distance-based algorithms like k-NN).\n",
        "\n",
        "Encode categorical variables using One-Hot or Label Encoding.\n",
        "\n",
        "Apply transformations like log scaling for skewed data.\n",
        "\n",
        "6. Selecting the Right Model\n",
        "Different datasets favor different models. EDA helps determine whether you need a simple linear model or a more complex deep learning model, saving time and resources.\n",
        "\n",
        "7. Ensuring Data Quality\n",
        "Issues like duplicates, inconsistent labeling, or incorrect values can degrade performance. EDA helps clean the data and ensure better model reliability."
      ],
      "metadata": {
        "id": "17QlPQFkPo_o"
      }
    },
    {
      "cell_type": "markdown",
      "source": [
        "12.  What is correlation?\n",
        "\n",
        " ans- Correlation measures the relationship between two variables—how one changes in relation to the other. It helps determine whether variables have a positive, negative, or no relationship.\n",
        "\n",
        "Types of Correlation\n",
        "\n",
        " * Positive Correlation\n",
        "\n",
        "   When one variable increases, the other also increases.\n",
        "\n",
        " * Negative Correlation\n",
        "\n",
        "   When one variable increases, the other decreases.\n",
        "\n",
        " * Zero Correlation\n",
        "\n",
        "   No relationship between the two variables."
      ],
      "metadata": {
        "id": "SiFboSjWQAAn"
      }
    },
    {
      "cell_type": "markdown",
      "source": [
        "13.  What does negative correlation mean?\n",
        "\n",
        " ans- Negative correlation means that as one variable increases, the other decreases. It represents an inverse relationship between two variables.\n",
        "\n",
        "Example of Negative Correlation\n",
        "\n",
        "* Temperature & Hot Coffee Sales\n",
        "\n",
        "  As temperature increases, the sales of hot coffee decrease.\n",
        "\n",
        "  People prefer cold beverages in warmer weather.\n",
        "\n",
        "* Exercise & Body Fat Percentage\n",
        "\n",
        "  As exercise increases, body fat percentage tends to decrease.\n",
        "\n",
        "  Regular workouts contribute to fat loss."
      ],
      "metadata": {
        "id": "dzcpKDs2QZO4"
      }
    },
    {
      "cell_type": "markdown",
      "source": [
        "14.  How can you find correlation between variables in Python?\n",
        "\n",
        " ans- correlation measures how two variables move in relation to each other. In Python, you can easily find correlation using Pandas and visualize it with Seaborn or Matplotlib."
      ],
      "metadata": {
        "id": "zhfaKuwnQz-i"
      }
    },
    {
      "cell_type": "code",
      "source": [
        "Using Pandas corr() Method\n",
        "\n",
        "import pandas as pd\n",
        "\n",
        "# Sample dataset\n",
        "data = {'Study_Hours': [1, 2, 3, 4, 5], 'Exam_Score': [50, 60, 70, 80, 90]}\n",
        "df = pd.DataFrame(data)\n",
        "\n",
        "# Compute correlation\n",
        "correlation_matrix = df.corr()\n",
        "print(correlation_matrix)"
      ],
      "metadata": {
        "colab": {
          "base_uri": "https://localhost:8080/"
        },
        "id": "beF8kqpJRF-7",
        "outputId": "7aa7c3fc-284e-485a-fef6-f00e9e4f4491"
      },
      "execution_count": 24,
      "outputs": [
        {
          "output_type": "stream",
          "name": "stdout",
          "text": [
            "             Study_Hours  Exam_Score\n",
            "Study_Hours          1.0         1.0\n",
            "Exam_Score           1.0         1.0\n"
          ]
        }
      ]
    },
    {
      "cell_type": "code",
      "source": [
        "Visualizing with Heatmap (Seaborn)\n",
        "\n",
        "import seaborn as sns\n",
        "import matplotlib.pyplot as plt\n",
        "\n",
        "plt.figure(figsize=(10, 8))\n",
        "sns.heatmap(df.corr(), annot=True, cmap='coolwarm', fmt=\".2f\")\n",
        "plt.title(\"Correlation Matrix\")\n",
        "plt.show()\n",
        "\n",
        "\n"
      ],
      "metadata": {
        "colab": {
          "base_uri": "https://localhost:8080/",
          "height": 699
        },
        "id": "QkdfgarfRlBh",
        "outputId": "bd76f20c-9a04-41c5-b2d1-7ff20c33541e"
      },
      "execution_count": 28,
      "outputs": [
        {
          "output_type": "display_data",
          "data": {
            "text/plain": [
              "<Figure size 1000x800 with 2 Axes>"
            ],
            "image/png": "[encoded data removed]"
          },
          "metadata": {}
        }
      ]
    },
    {
      "cell_type": "markdown",
      "source": [
        "15. What is causation? Explain difference between correlation and causation with an example.\n",
        "\n",
        "ans- Causation means that one event directly leads to another. In contrast, correlation simply indicates that two variables move together but does not confirm that one causes the other.\n",
        "\n",
        "key difference:\n",
        "\n",
        "Correlation vs. Causation: Correlation refers to a statistical association between two variables, meaning they move together, but it does not imply that one causes the other. Causation, on the other hand, establishes a direct cause-and-effect relationship, where one variable actively influences the other. For example, increased ice cream sales and drowning incidents may be correlated in the summer, but eating ice cream does not cause drowning—hot weather is the real factor driving both events. Understanding the difference is crucial for accurate data analysis and decision-making.\n",
        "\n",
        "Example\n",
        "Imagine you notice that ice cream sales and drowning incidents both increase during summer. There's a strong correlation between the two, but does eating more ice cream cause more drownings? 🤔\n",
        "\n",
        "Reality:\n",
        "\n",
        "The actual cause is hot weather.\n",
        "\n",
        "Hot weather → more swimming → higher drowning incidents.\n",
        "\n",
        "Hot weather → more ice cream sales.\n",
        "\n",
        "Ice cream correlates with drowning, but does not cause it!"
      ],
      "metadata": {
        "id": "U-9OaBevSI6e"
      }
    },
    {
      "cell_type": "markdown",
      "source": [],
      "metadata": {
        "id": "wJdbjr9oSxb5"
      }
    },
    {
      "cell_type": "markdown",
      "source": [
        "16.  What is an Optimizer? What are different types of optimizers? Explain each with an example.\n",
        "\n",
        "ans- An optimizer is an algorithm that adjusts a machine learning model's parameters to minimize the loss function and improve predictions. It helps the model learn from data by updating weights efficiently, ensuring better performance.\n",
        "\n",
        "Types of Optimizers & Their Examples\n",
        "Here are some common optimizers used in machine learning and deep learning:\n",
        "\n",
        "1. Gradient Descent\n",
        "A basic optimization technique that updates weights using the gradient of the loss function.\n",
        "\n",
        "Example: Training a simple linear regression model.\n",
        "\n",
        "2. Stochastic Gradient Descent (SGD)\n",
        "Instead of computing gradients over the entire dataset, SGD updates weights using a single sample at a time.\n",
        "\n",
        "Example: Training neural networks with batch-wise updates.\n",
        "\n",
        "Advantage: Faster and suitable for large datasets.\n",
        "\n",
        "Disadvantage: More noise in updates due to randomness.\n",
        "\n",
        "3. Mini-Batch Gradient Descent\n",
        "A compromise between batch and stochastic gradient descent, updating weights using small batches of data.\n",
        "\n",
        "Example: Used in deep learning frameworks like TensorFlow and PyTorch.\n",
        "\n",
        "Balanced: Reduces noise while maintaining computational efficiency.\n",
        "\n",
        "4. Adam (Adaptive Moment Estimation)\n",
        "A popular optimizer that adjusts learning rates dynamically using momentum and past gradients.\n",
        "\n",
        "Example: Deep learning models like CNNs and LSTMs.\n",
        "\n",
        "Advantage: Fast convergence and works well for complex datasets.\n",
        "\n",
        "5. RMSprop (Root Mean Square Propagation)\n",
        "Designed to handle vanishing gradients by maintaining a moving average of squared gradients.\n",
        "\n",
        "Example: Training recurrent neural networks (RNNs).\n",
        "\n",
        "Used for: Non-stationary objectives where gradient magnitudes vary.\n",
        "\n",
        "6. Adagrad (Adaptive Gradient Algorithm)\n",
        "Adjusts learning rates individually for each parameter, focusing more on sparse features.\n",
        "\n",
        "Example: Natural language processing (NLP) models.\n",
        "\n",
        "Benefit: Automatically adapts learning rates to different features."
      ],
      "metadata": {
        "id": "cRYzV_AEUgDT"
      }
    },
    {
      "cell_type": "markdown",
      "source": [
        "17.  What is sklearn.linear_model ?\n",
        "\n",
        " ans- sklearn.linear_model is a module in Scikit-learn that provides various linear models for regression and classification. These models assume a linear relationship between input features and target variables.\n",
        "\n",
        "Key Models in sklearn.linear_model\n",
        "\n",
        "1. Linear Regression (LinearRegression)\n",
        "\n",
        "Used for continuous target values.\n",
        "\n",
        "Finds a best-fit line that minimizes the error.\n",
        "\n",
        "2. Ridge Regression (Ridge)\n",
        "\n",
        "Adds L2 regularization to prevent overfitting.\n",
        "\n",
        "Helps in handling multicollinearity.\n",
        "\n",
        "3. Lasso Regression (Lasso)\n",
        "\n",
        "Adds L1 regularization, which leads to feature selection.\n",
        "\n",
        "Shrinks coefficients to zero for irrelevant features.\n",
        "\n",
        "4. Logistic Regression (LogisticRegression)\n",
        "\n",
        "Used for binary/multi-class classification problems.\n",
        "\n",
        "Outputs probabilities of classes instead of continuous values.\n",
        "\n",
        "5. SGD Classifier (SGDClassifier) & SGD Regressor (SGDRegressor)\n",
        "\n",
        "Uses Stochastic Gradient Descent for optimization.\n",
        "\n",
        "Useful for large datasets.\n",
        "\n",
        "6. Elastic Net (ElasticNet)\n",
        "\n",
        "Combines L1 (Lasso) and L2 (Ridge) penalties.\n",
        "\n",
        "7. Perceptron (Perceptron)\n",
        "\n",
        "A simple binary classifier based on a single-layer neural network."
      ],
      "metadata": {
        "id": "qiuf6azKUzlT"
      }
    },
    {
      "cell_type": "markdown",
      "source": [
        "18. What does model.fit() do? What arguments must be given?\n",
        "\n",
        " ans- model.fit() is a fundamental method in machine learning that trains a model using provided data. When called, it optimizes model parameters (like weights) to minimize errors and learn patterns from the input.\n",
        "\n",
        "What Does model.fit() Do?\n",
        "\n",
        "Trains the model on input data (X) and target labels (y).\n",
        "\n",
        "Adjusts weights to improve predictions using an optimization algorithm.\n",
        "\n",
        "Stores learned parameters, allowing the model to make predictions on unseen data.\n",
        "\n",
        "Required Arguments\n",
        "Different machine learning models require specific arguments, but generally, model.fit() includes:\n",
        "\n",
        "Argument\t           Description\n",
        "X_train\t          Training features (independent variables).\n",
        "y_train         \tTarget values (dependent variable).\n",
        "epochs\t          (For neural networks) Number of times the model sees the data.\n",
        "batch_size\t       (For deep learning) Number of samples processed at once."
      ],
      "metadata": {
        "id": "61dQ7i9KVPeq"
      }
    },
    {
      "cell_type": "markdown",
      "source": [
        "19. What does model.predict() do? What arguments must be given?\n",
        "\n",
        " ans- model.predict() is used to make predictions based on the trained model. After fitting the model to the training data, predict() takes new input features (X) and produces the corresponding predicted values.\n",
        "\n",
        "How It Works\n",
        "The model applies learned patterns to new, unseen data.\n",
        "\n",
        "For regression models, it returns continuous values.\n",
        "\n",
        "For classification models, it returns class labels or probabilities.\n",
        "\n",
        "Required Arguments\n",
        "Argument\t         Description\n",
        "X_test\t          New feature set for prediction (should match training format).\n",
        "batch_size\t      (Optional, for deep learning) Number of samples processed at once.\n",
        "verbose  (Optional, for deep learning) Controls output display  whilepredicting."
      ],
      "metadata": {
        "id": "bhkJRAhJVsBZ"
      }
    },
    {
      "cell_type": "markdown",
      "source": [
        "20. What are continuous and categorical variables?\n",
        "\n",
        "ans- Continuous Variables\n",
        "These are numerical variables that can take any value within a range. They are measurable and often have infinite possibilities. Examples:\n",
        "\n",
        "Height (e.g., 170.5 cm)\n",
        "\n",
        "Temperature (e.g., 36.7°C)\n",
        "\n",
        "Income (e.g., ₹50,000.75)\n",
        "\n",
        "Since continuous variables can have decimal values, they are commonly analyzed using methods like regression and normalization.\n",
        "\n",
        "Categorical Variables\n",
        "These represent distinct categories or groups rather than numerical values. They are typically qualitative and can be divided into:\n",
        "\n",
        "Nominal Variables – Categories with no inherent order (e.g., colors: Red, Blue, Green).\n",
        "\n",
        "Ordinal Variables – Categories with a meaningful order but no fixed numerical difference (e.g., education levels: Primary, Secondary, Graduate)."
      ],
      "metadata": {
        "id": "NCJcWkENWOxg"
      }
    },
    {
      "cell_type": "markdown",
      "source": [
        "21. What is feature scaling? How does it help in Machine Learning?\n",
        "\n",
        " ans- Feature scaling is the process of transforming numerical variables so they have comparable ranges. Since many machine learning algorithms rely on numerical computations, differing feature scales can negatively impact performance. Scaling ensures that no single feature dominates learning due to its magnitude.\n",
        "\n",
        "How Does Feature Scaling Help?\n",
        "Feature scaling improves:\n",
        "\n",
        "Model convergence: Faster optimization in gradient-based algorithms like neural networks and logistic regression.\n",
        "\n",
        "Accuracy: Prevents algorithms like k-NN and SVM from assigning too much importance to larger values.\n",
        "\n",
        "Comparability: Makes features uniformly distributed so models work effectively.\n",
        "\n",
        "Common Scaling Techniques\n",
        "Standardization (StandardScaler)\n",
        "\n",
        "Centers the data around zero and scales variance to one.\n",
        "\n",
        "\n",
        "Suitable for algorithms assuming normally distributed features (e.g., logistic regression, linear regression).\n",
        "\n",
        "Min-Max Normalization (MinMaxScaler)\n",
        "\n",
        "Rescales values between 0 and 1 or a fixed range.\n",
        "\n",
        "Useful for non-Gaussian distributions like deep learning and k-NN.\n",
        "\n",
        "Robust Scaling (RobustScaler)\n",
        "\n",
        "Uses median and interquartile range, reducing impact from outliers.\n",
        "\n",
        "Good for datasets with extreme values."
      ],
      "metadata": {
        "id": "RcGFW4dLWbm0"
      }
    },
    {
      "cell_type": "markdown",
      "source": [
        "22. How to Perform Feature Scaling in Python?\n",
        "\n",
        "Python’s Scikit-learn provides efficient scaling techniques:\n",
        "\n",
        "Standardization (Zero Mean, Unit Variance)\n",
        "Useful when data has a normal distribution.\n",
        "\n"
      ],
      "metadata": {
        "id": "Dejk9sahXAJV"
      }
    },
    {
      "cell_type": "code",
      "source": [
        "from sklearn.preprocessing import StandardScaler\n",
        "import numpy as np\n",
        "\n",
        "X = np.array([[100, 2], [200, 5], [300, 8]])\n",
        "scaler = StandardScaler()\n",
        "X_scaled = scaler.fit_transform(X)\n",
        "\n",
        "print(X_scaled)\n"
      ],
      "metadata": {
        "colab": {
          "base_uri": "https://localhost:8080/"
        },
        "id": "ArV0PksQXKkH",
        "outputId": "c5457549-fff1-42c4-f146-93d6dbdac16c"
      },
      "execution_count": 29,
      "outputs": [
        {
          "output_type": "stream",
          "name": "stdout",
          "text": [
            "[[-1.22474487 -1.22474487]\n",
            " [ 0.          0.        ]\n",
            " [ 1.22474487  1.22474487]]\n"
          ]
        }
      ]
    },
    {
      "cell_type": "markdown",
      "source": [
        "23. What is sklearn.preprocessing?\n",
        "This module provides tools for data preprocessing before training models. It includes:\n",
        "\n",
        "Scaling & Normalization (StandardScaler, MinMaxScaler, RobustScaler).\n",
        "\n",
        "Encoding Categorical Variables (OneHotEncoder, LabelEncoder, OrdinalEncoder).\n",
        "\n",
        "Handling Missing Values (SimpleImputer, KNNImputer).\n",
        "\n",
        "Feature Engineering (PolynomialFeatures, FunctionTransformer)."
      ],
      "metadata": {
        "id": "soJZe8bfXMux"
      }
    },
    {
      "cell_type": "markdown",
      "source": [
        "24. How to Split Data for Model Fitting?\n",
        "\n",
        "Before training a model, we split data into training and testing sets to evaluate performance.\n",
        "\n",
        "In machine learning, we split data to ensure that we train our model on one part and test it on unseen data to evaluate performance. This helps prevent overfitting and gives a better idea of how the model will perform in the real world."
      ],
      "metadata": {
        "id": "KNaQ6dKBXRdd"
      }
    },
    {
      "cell_type": "markdown",
      "source": [
        "25. What is Data Encoding?\n",
        "\n",
        "Data encoding is the process of converting categorical (non-numeric) data into numerical form so that machine learning algorithms can understand and work with it.\n",
        "\n",
        "Most ML algorithms require numerical input, so any data in the form of text (like \"Male\", \"Blue\", \"Yes\", \"No\") must be encoded into numbers.\n",
        "\n",
        "* Why is Encoding Needed?\n",
        "\n",
        "Machine learning models cannot process raw text or categories directly—they need numeric representations to compute distances, make decisions, or apply mathematical operations."
      ],
      "metadata": {
        "id": "qrClojo3Xpd7"
      }
    },
    {
      "cell_type": "markdown",
      "source": [],
      "metadata": {
        "id": "U4IvrMg_YArU"
      }
    },
    {
      "cell_type": "markdown",
      "source": [],
      "metadata": {
        "id": "xaiEv6nFXx3J"
      }
    }
  ]
}